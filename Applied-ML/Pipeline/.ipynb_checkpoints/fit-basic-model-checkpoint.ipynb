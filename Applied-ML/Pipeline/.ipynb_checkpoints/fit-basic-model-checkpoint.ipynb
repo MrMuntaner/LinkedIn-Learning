{
 "cells": [
  {
   "cell_type": "markdown",
   "metadata": {},
   "source": [
    "## Pipeline: Fit a basic model\n",
    "\n",
    "Using the Titanic dataset from [this](https://www.kaggle.com/c/titanic/overview) Kaggle competition.\n",
    "\n",
    "In this section, I will fit and evaluate a basic model using 5-fold Cross-Validation.\n",
    "\n",
    "The goal is to just get an understanding of what the baseline level of performance might look like. \n",
    "\n",
    "This will only take place on the training set."
   ]
  },
  {
   "cell_type": "markdown",
   "metadata": {},
   "source": [
    "### Read in data"
   ]
  },
  {
   "cell_type": "code",
   "execution_count": 9,
   "metadata": {},
   "outputs": [],
   "source": [
    "import pandas as pd\n",
    "from sklearn.ensemble import RandomForestClassifier\n",
    "from sklearn.model_selection import cross_val_score\n",
    "import warnings\n",
    "warnings.filterwarnings(\"ignore\", category=FutureWarning)\n",
    "\n",
    "tr_features = pd.read_csv('../data/train_features.csv')\n",
    "tr_labels = pd.read_csv('../data/train_labels.csv')"
   ]
  },
  {
   "cell_type": "markdown",
   "metadata": {},
   "source": [
    "### Fit and evaluate a basic model using 5-fold Cross-Validation\n",
    "5-fold cross-validation will split the training set into five subsets then it will iterate through the data five times, each time fitting a model on four subsets and evaluating on the 5th subset.\n",
    "\n",
    "So in the end, each subset of data, and thus every example will have been used to train the model four times and evaluate the model once.\n",
    "\n",
    "At the end i will get an array with my model scores for each of the five folds."
   ]
  },
  {
   "cell_type": "code",
   "execution_count": 12,
   "metadata": {},
   "outputs": [],
   "source": [
    "# istantiate my RandomForceClassifer \n",
    "rf = RandomForestClassifier()\n",
    "\n",
    "# pass in my model, training features, training labels, and tell it how many folds i want \n",
    "scores = cross_val_score(rf, tr_features, tr_labels.values.ravel(), cv=5)"
   ]
  },
  {
   "cell_type": "code",
   "execution_count": 13,
   "metadata": {},
   "outputs": [
    {
     "data": {
      "text/plain": [
       "array([0.8411215 , 0.8317757 , 0.80373832, 0.81308411, 0.83018868])"
      ]
     },
     "execution_count": 13,
     "metadata": {},
     "output_type": "execute_result"
    }
   ],
   "source": [
    "# an array of 5 different scores, where one score for each of the five folds.\n",
    "# the average is probably around 82% bu the great thing about this is it shows-\n",
    "# me the accuracy when training and evaluating on different subsets of data\n",
    "scores"
   ]
  },
  {
   "cell_type": "code",
   "execution_count": null,
   "metadata": {},
   "outputs": [],
   "source": []
  }
 ],
 "metadata": {
  "kernelspec": {
   "display_name": "Python 3 (ipykernel)",
   "language": "python",
   "name": "python3"
  },
  "language_info": {
   "codemirror_mode": {
    "name": "ipython",
    "version": 3
   },
   "file_extension": ".py",
   "mimetype": "text/x-python",
   "name": "python",
   "nbconvert_exporter": "python",
   "pygments_lexer": "ipython3",
   "version": "3.10.4"
  }
 },
 "nbformat": 4,
 "nbformat_minor": 2
}
